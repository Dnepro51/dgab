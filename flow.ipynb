{
 "cells": [
  {
   "cell_type": "code",
   "execution_count": null,
   "id": "fl28qrmrhx",
   "metadata": {},
   "outputs": [],
   "source": [
    "import sys\n",
    "sys.path.append('./examples')\n",
    "\n",
    "import create_discrete_2groups\n",
    "import create_discrete_multiple\n",
    "import create_binary_agg_2groups\n",
    "import create_binary_agg_multiple\n",
    "\n",
    "print(\"Sample data generated successfully!\")\n",
    "print(\"Files created:\")\n",
    "print(\"- examples/discrete_2groups.csv\")\n",
    "print(\"- examples/discrete_multiple.csv\") \n",
    "print(\"- examples/binary_agg_2groups.csv\")\n",
    "print(\"- examples/binary_agg_multiple.csv\")"
   ]
  },
  {
   "cell_type": "code",
   "execution_count": null,
   "id": "ztdn50rm2u",
   "metadata": {},
   "outputs": [],
   "source": [
    "\n",
    "import pandas as pd\n",
    "import numpy as np\n",
    "import sys\n",
    "sys.path.append('./dgab') \n",
    "\n",
    "discrete_2 = pd.read_csv('discrete_2groups.csv')\n",
    "discrete_multi = pd.read_csv('discrete_multiple.csv') \n",
    "binary_2 = pd.read_csv('binary_agg_2groups.csv')\n",
    "binary_multi = pd.read_csv('binary_agg_multiple.csv')"
   ]
  },
  {
   "cell_type": "code",
   "execution_count": null,
   "id": "941706d5",
   "metadata": {},
   "outputs": [],
   "source": [
    "display(discrete_2)\n",
    "display(discrete_multi)\n",
    "display(binary_2)\n",
    "display(binary_multi)"
   ]
  },
  {
   "cell_type": "code",
   "execution_count": null,
   "id": "ae559b18",
   "metadata": {},
   "outputs": [],
   "source": [
    "import dgab\n",
    "\n",
    "dgab.how(data_type='discrete')"
   ]
  },
  {
   "cell_type": "code",
   "execution_count": null,
   "id": "cb804bf7",
   "metadata": {},
   "outputs": [],
   "source": [
    "\n",
    "result = dgab.analyze(\n",
    "    dataframe=discrete_2,\n",
    "    data_type='discrete', \n",
    "    group_col='group',\n",
    "    metric_col='launches'\n",
    ")"
   ]
  },
  {
   "cell_type": "code",
   "execution_count": null,
   "id": "147c6dc1",
   "metadata": {},
   "outputs": [],
   "source": [
    "result = dgab.analyze(\n",
    "    dataframe=discrete_multi,\n",
    "    data_type='discrete', \n",
    "    group_col='group',\n",
    "    metric_col='clicks',\n",
    "    statistic='mean',\n",
    "    significance_level=0.01,\n",
    "    confidence_level=0.95\n",
    ")"
   ]
  },
  {
   "cell_type": "code",
   "execution_count": null,
   "id": "8a4e1767",
   "metadata": {},
   "outputs": [],
   "source": []
  }
 ],
 "metadata": {
  "kernelspec": {
   "display_name": "base",
   "language": "python",
   "name": "python3"
  },
  "language_info": {
   "codemirror_mode": {
    "name": "ipython",
    "version": 3
   },
   "file_extension": ".py",
   "mimetype": "text/x-python",
   "name": "python",
   "nbconvert_exporter": "python",
   "pygments_lexer": "ipython3",
   "version": "3.13.5"
  }
 },
 "nbformat": 4,
 "nbformat_minor": 5
}
